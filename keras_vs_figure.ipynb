{
 "cells": [
  {
   "cell_type": "code",
   "execution_count": 1,
   "id": "9f3c192e-4cdf-4c25-9349-e890731ebeec",
   "metadata": {},
   "outputs": [
    {
     "name": "stderr",
     "output_type": "stream",
     "text": [
      "2022-10-17 11:34:14.195827: I tensorflow/core/platform/cpu_feature_guard.cc:193] This TensorFlow binary is optimized with oneAPI Deep Neural Network Library (oneDNN) to use the following CPU instructions in performance-critical operations:  AVX2 FMA\n",
      "To enable them in other operations, rebuild TensorFlow with the appropriate compiler flags.\n",
      "2022-10-17 11:34:23.963546: I tensorflow/core/platform/cpu_feature_guard.cc:193] This TensorFlow binary is optimized with oneAPI Deep Neural Network Library (oneDNN) to use the following CPU instructions in performance-critical operations:  AVX2 FMA\n",
      "To enable them in other operations, rebuild TensorFlow with the appropriate compiler flags.\n"
     ]
    },
    {
     "name": "stdout",
     "output_type": "stream",
     "text": [
      "Epoch 1/10\n",
      "1500/1500 [==============================] - 6s 4ms/step - loss: 0.2522 - accuracy: 0.9271 - val_loss: 0.1314 - val_accuracy: 0.9615\n",
      "Epoch 2/10\n",
      "1500/1500 [==============================] - 5s 3ms/step - loss: 0.1036 - accuracy: 0.9696 - val_loss: 0.1029 - val_accuracy: 0.9684\n",
      "Epoch 3/10\n",
      "1500/1500 [==============================] - 6s 4ms/step - loss: 0.0675 - accuracy: 0.9797 - val_loss: 0.0813 - val_accuracy: 0.9759\n",
      "Epoch 4/10\n",
      "1500/1500 [==============================] - 6s 4ms/step - loss: 0.0480 - accuracy: 0.9851 - val_loss: 0.0830 - val_accuracy: 0.9758\n",
      "Epoch 5/10\n",
      "1500/1500 [==============================] - 5s 4ms/step - loss: 0.0343 - accuracy: 0.9898 - val_loss: 0.0867 - val_accuracy: 0.9755\n",
      "Epoch 6/10\n",
      "1500/1500 [==============================] - 5s 4ms/step - loss: 0.0259 - accuracy: 0.9922 - val_loss: 0.0802 - val_accuracy: 0.9771\n",
      "Epoch 7/10\n",
      "1500/1500 [==============================] - 5s 4ms/step - loss: 0.0200 - accuracy: 0.9938 - val_loss: 0.0845 - val_accuracy: 0.9760\n",
      "Epoch 8/10\n",
      "1500/1500 [==============================] - 6s 4ms/step - loss: 0.0173 - accuracy: 0.9947 - val_loss: 0.0852 - val_accuracy: 0.9787\n",
      "Epoch 9/10\n",
      "1500/1500 [==============================] - 8s 5ms/step - loss: 0.0129 - accuracy: 0.9958 - val_loss: 0.0944 - val_accuracy: 0.9764\n",
      "Epoch 10/10\n",
      "1500/1500 [==============================] - 7s 5ms/step - loss: 0.0109 - accuracy: 0.9964 - val_loss: 0.0881 - val_accuracy: 0.9783\n",
      "313/313 [==============================] - 1s 3ms/step - loss: 0.0767 - accuracy: 0.9804\n",
      "1/1 [==============================] - 0s 95ms/step\n",
      "[[6.31444062e-13 1.59729794e-07 9.99999881e-01 2.37482090e-10\n",
      "  1.33557915e-20 8.30001068e-11 9.26871746e-10 1.13589095e-17\n",
      "  1.01888054e-09 1.31812413e-17]]\n"
     ]
    }
   ],
   "source": [
    "# MNIST – (сокращение от «Modified National Institute of Standards and Technology»)\n",
    "# – база данных образцов рукописного написания цифр\n",
    "import keras\n",
    "import matplotlib.pyplot as plt\n",
    "import numpy as np\n",
    "from tensorflow import keras\n",
    "from keras.layers import Dense, Flatten\n",
    "from keras.datasets import mnist\n",
    "\n",
    "# загуржаю данные этой библиотеки\n",
    "# Здесь 60 000 изображений в обучающей выборке и 10 000 – в тестовой. Мы будем использовать определения:\n",
    "# x_train – изображения цифр обучающей выборки;\n",
    "# y_train – вектор соответствующих значений цифр (например, если на i-м изображении нарисована 5, то  y_train[i] = 5);\n",
    "# x_test – изображения цифр тестовой выборки;\n",
    "# y_test – вектор соответствующих значений цифр для тестовой выборки.\n",
    "# Каждое изображение имеет размер 28х28 пикселей и представлено в градациях серого\n",
    "(x_train, y_train), (x_test, y_test) = mnist.load_data()\n",
    "\n",
    "# Теперь нужно ответить на второй вопрос о структуре сети. Строгого ответа на него нет,\n",
    "# т.к. структура выбирается самим разработчиком исходя из его представлений о решении этой задачи.\n",
    "# Общий ориентир здесь такой: для распознавания графических образов хорошо себя показали сверточные НС.\n",
    "# Но мы о них пока еще ничего не знаем, поэтому воспользуемся обычной полносвязной НС с\n",
    "#\n",
    "# 28 x 28 = 784 входами;\n",
    "# 128 нейронами скрытого слоя;\n",
    "# 10 нейронами выходного слоя.\n",
    "# В качестве функций активации скрытого слоя выберем популярную на сегодняшний день ReLu, а у выходных нейронов –\n",
    "# softmax, т.к. мы хотим интерпретировать выходные значения в терминах вероятности принадлежности к тому или иному\n",
    "# классу цифр.\n",
    "# Первый слой должен преобразовывать изображение 28x28 пикселей в вектор из 784 элементов.\n",
    "# Для такой операции в Keras можно создать слой специального вида – Flatten\n",
    "# Следующий слой создадим с помощью уже известного нам класса Dense, который свяжет все 784 входа со всеми 128\n",
    "# нейронами. И такой же последний слой из 10 нейронов, который будет связан со всеми 128 нейронами предыдущего слоя.\n",
    "model = keras.Sequential([\n",
    "    Flatten(input_shape=(28, 28, 1)),\n",
    "    Dense(256, activation='relu'),\n",
    "    Dense(10, activation='softmax')\n",
    "])\n",
    "\n",
    "# вывод структуры в консоль\n",
    "#print(model.summary())\n",
    "\n",
    "# Необходимо входные значения вектора x стандартизировать так, чтобы они находились в диапазоне от 0 до 1\n",
    "# Здесь каждое значение тензоров x_train и x_test будет делиться на максимальное число 255, которое они могут принимать.\n",
    "# На выходе получим вещественные величины от 0 до 1.\n",
    "x_train = x_train / 255\n",
    "x_test = x_test / 255\n",
    "\n",
    "# Еще нам нужно подготовить правильный формат выходных значений\n",
    "# нам нужен вектор с 1 на месте соответствующего числа, т.к. наша НС имеет 10 выходов, и каждый выход будет\n",
    "# соответствовать определенной цифре: от 0 до 9.\n",
    "# В Keras уже имеется функция, которая все это делает.\n",
    "y_train_cat = keras.utils.to_categorical(y_train, 10)\n",
    "y_test_cat = keras.utils.to_categorical(y_test, 10)\n",
    "\n",
    "# Теперь выберем функцию потерь (loss function) и способ оптимизации градиентного алгоритма.\n",
    "# Лучше всего начинать с категориальной кросс-энтропии:\n",
    "#\n",
    "# categorical_crossentropy\n",
    "#\n",
    "# и активационной функции выходных нейронов softmax. Функцию активации мы уже такую прописали,\n",
    "# осталось указать этот критерий качества:\n",
    "model.compile(optimizer='adam',\n",
    "              loss='categorical_crossentropy',\n",
    "              metrics=['accuracy'])\n",
    "\n",
    "# запуск модели обучения\n",
    "model.fit(x_train, y_train_cat, batch_size=32, epochs=10, validation_split=0.2)\n",
    "# batch_size = 32 – это размер батча (32 картинки), после которых будет выполняться корректировка весов\n",
    "# validation_split = 0,2 – разбиение обучающей выборки на собственно обучающую и проверочную. Значение 0,2 определяет,\n",
    "# что для каждой эпохи 20% случайных картинок из обучающей\n",
    "# выборки будут помещаться в выборку валидации. 20% - это довольно частое значение для создания проверочной выборки\n",
    "# (ее, как правило, выбирают из диапазона от 10% до 30%).\n",
    "\n",
    "# Проверка работы сети на тестовом множестве:\n",
    "model.evaluate(x_test, y_test_cat)\n",
    "# Метод evaluate прогоняет все тестовое множество и вычисляет значение критерия качества и метрики.\n",
    "\n",
    "# выполним распознавания какого-либо тестового изображения:\n",
    "n = 1\n",
    "x = np.expand_dims(x_test[n], axis=0)\n",
    "res = model.predict(x)\n",
    "print(res)"
   ]
  },
  {
   "cell_type": "code",
   "execution_count": 2,
   "id": "2b2033b0-6635-49ff-a25b-f51830746bbe",
   "metadata": {},
   "outputs": [
    {
     "name": "stdout",
     "output_type": "stream",
     "text": [
      "2\n"
     ]
    }
   ],
   "source": [
    "# И полагаем, что максимальное значение как раз и будет соответствовать нужному классу. В данном случае – это число\n",
    "# 9.9881822e-01 третьего выхода, то есть, для цифры 2. Чтобы было проще воспринимать выходную информацию, будем выводить\n",
    "# номер максимального числа из этого вектора. Для этого воспользуемся довольно удобной функцией argmax модуля numpy:\n",
    "print(np.argmax(res))"
   ]
  },
  {
   "cell_type": "code",
   "execution_count": 3,
   "id": "4d91549e-c086-463e-bcab-8de268f597cf",
   "metadata": {},
   "outputs": [
    {
     "data": {
      "image/png": "[encoded data removed]",
      "text/plain": [
       "<Figure size 640x480 with 1 Axes>"
      ]
     },
     "metadata": {},
     "output_type": "display_data"
    }
   ],
   "source": [
    "# И, еще, отобразить на экране это тестовое изображение:\n",
    "plt.imshow(x_test[n], cmap=plt.cm.binary)\n",
    "plt.show()"
   ]
  },
  {
   "cell_type": "code",
   "execution_count": 4,
   "id": "641812e0-9f2b-4fa5-b6ac-896a232b91f7",
   "metadata": {},
   "outputs": [
    {
     "name": "stdout",
     "output_type": "stream",
     "text": [
      "313/313 [==============================] - 1s 2ms/step\n",
      "(10000,)\n",
      "[7 2 1 0 4 1 4 9 5 9 0 6 9 0 1 5 9 7 3 4]\n",
      "[7 2 1 0 4 1 4 9 5 9 0 6 9 0 1 5 9 7 3 4]\n"
     ]
    }
   ],
   "source": [
    "# Давайте теперь выделим и посмотрим на неверные результаты распознавания.\n",
    "# Пропустим через НС всю тестовую выборку и векторы выходных значений преобразуем в числа от 0 до 9:\n",
    "pred = model.predict(x_test)\n",
    "pred = np.argmax(pred, axis=1)\n",
    "\n",
    "print(pred.shape)\n",
    "\n",
    "print(pred[:20])\n",
    "print(y_test[:20])"
   ]
  },
  {
   "cell_type": "code",
   "execution_count": 5,
   "id": "73855dc0-eba1-4ffe-9eb2-9e0c6fa017f9",
   "metadata": {},
   "outputs": [
    {
     "name": "stdout",
     "output_type": "stream",
     "text": [
      "[ True  True  True  True  True  True  True  True  True  True]\n",
      "(196, 28, 28)\n"
     ]
    }
   ],
   "source": [
    "# Затем, сформируем маску, которая будет содержать True для верных вариантов и False – для неверных.\n",
    "# И с помощью этой маски выделим из тестовой выборки все неверные результаты:\n",
    "mask = pred == y_test\n",
    "print(mask[:10])\n",
    "\n",
    "x_false = x_test[~mask]\n",
    "y_false = y_test[~mask]\n",
    "\n",
    "print(x_false.shape)"
   ]
  },
  {
   "cell_type": "code",
   "execution_count": 6,
   "id": "39ed8a2c-6d8a-4699-b1a2-32f3d8dfc98c",
   "metadata": {},
   "outputs": [
    {
     "name": "stdout",
     "output_type": "stream",
     "text": [
      "Значение сети; 7\n"
     ]
    },
    {
     "data": {
      "image/png": "[encoded data removed]",
      "text/plain": [
       "<Figure size 640x480 with 1 Axes>"
      ]
     },
     "metadata": {},
     "output_type": "display_data"
    },
    {
     "name": "stdout",
     "output_type": "stream",
     "text": [
      "Значение сети; 2\n"
     ]
    },
    {
     "data": {
      "image/png": "[encoded data removed]",
      "text/plain": [
       "<Figure size 640x480 with 1 Axes>"
      ]
     },
     "metadata": {},
     "output_type": "display_data"
    },
    {
     "name": "stdout",
     "output_type": "stream",
     "text": [
      "Значение сети; 1\n"
     ]
    },
    {
     "data": {
      "image/png": "[encoded data removed]",
      "text/plain": [
       "<Figure size 640x480 with 1 Axes>"
      ]
     },
     "metadata": {},
     "output_type": "display_data"
    },
    {
     "name": "stdout",
     "output_type": "stream",
     "text": [
      "Значение сети; 0\n"
     ]
    },
    {
     "data": {
      "image/png": "[encoded data removed]",
      "text/plain": [
       "<Figure size 640x480 with 1 Axes>"
      ]
     },
     "metadata": {},
     "output_type": "display_data"
    },
    {
     "name": "stdout",
     "output_type": "stream",
     "text": [
      "Значение сети; 4\n"
     ]
    },
    {
     "data": {
      "image/png": "[encoded data removed]",
      "text/plain": [
       "<Figure size 640x480 with 1 Axes>"
      ]
     },
     "metadata": {},
     "output_type": "display_data"
    }
   ],
   "source": [
    "# И выведем первые 5 из них на экран:\n",
    "\n",
    "for i in range(5):\n",
    "    print(f'Значение сети; {y_test[i]}')\n",
    "    plt.imshow(x_false[i], cmap = plt.cm.binary)\n",
    "    plt.show()"
   ]
  },
  {
   "cell_type": "code",
   "execution_count": null,
   "id": "2d666262-1a35-4018-a5d9-43c78afeffd1",
   "metadata": {},
   "outputs": [],
   "source": [
    "# а теперь попробовать бы свои каракули распознать"
   ]
  }
 ],
 "metadata": {
  "kernelspec": {
   "display_name": "Python 3 (ipykernel)",
   "language": "python",
   "name": "python3"
  },
  "language_info": {
   "codemirror_mode": {
    "name": "ipython",
    "version": 3
   },
   "file_extension": ".py",
   "mimetype": "text/x-python",
   "name": "python",
   "nbconvert_exporter": "python",
   "pygments_lexer": "ipython3",
   "version": "3.9.14"
  }
 },
 "nbformat": 4,
 "nbformat_minor": 5
}
